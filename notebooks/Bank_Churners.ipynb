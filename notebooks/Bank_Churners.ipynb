{
 "cells": [
  {
   "cell_type": "markdown",
   "id": "d35fd534",
   "metadata": {},
   "source": [
    "## imports"
   ]
  },
  {
   "cell_type": "code",
   "execution_count": 57,
   "id": "a4287e25",
   "metadata": {},
   "outputs": [],
   "source": [
    "import pandas as pd\n",
    "import numpy as np\n",
    "import matplotlib.pyplot as plt\n",
    "import seaborn as sns\n",
    "from sklearn.preprocessing import StandardScaler\n",
    "from sklearn.preprocessing import OneHotEncoder\n",
    "from sklearn.preprocessing import OrdinalEncoder\n",
    "from sklearn.model_selection import train_test_split\n",
    "from sklearn.model_selection import KFold\n",
    "from sklearn.model_selection import cross_val_score\n",
    "from sklearn.model_selection import cross_val_predict\n",
    "from sklearn.metrics import confusion_matrix,classification_report,accuracy_score\n",
    "from sklearn.pipeline import Pipeline\n",
    "from sklearn.compose import make_column_transformer\n",
    "from sklearn.pipeline import make_pipeline\n",
    "from imblearn.pipeline import Pipeline as imbPipeline\n",
    "from sklearn.feature_selection import SelectKBest, chi2, f_classif\n",
    "from sklearn.feature_selection import RFE\n",
    "from sklearn.metrics import roc_auc_score\n",
    "from sklearn.metrics import confusion_matrix\n",
    "from sklearn.ensemble import RandomForestClassifier\n",
    "from sklearn import svm\n",
    "from sklearn.neighbors import KNeighborsClassifier\n",
    "from imblearn.over_sampling import SMOTE\n",
    "from sklearn.model_selection import GridSearchCV\n",
    "\n",
    "import warnings\n",
    "warnings.filterwarnings('ignore')"
   ]
  },
  {
   "cell_type": "code",
   "execution_count": 58,
   "id": "17964686",
   "metadata": {},
   "outputs": [],
   "source": [
    "data_df = pd.read_csv(\"/BankChurners.csv\")"
   ]
  },
  {
   "cell_type": "code",
   "execution_count": 59,
   "id": "f8fad820",
   "metadata": {},
   "outputs": [
    {
     "data": {
      "text/html": [
       "<div>\n",
       "<style scoped>\n",
       "    .dataframe tbody tr th:only-of-type {\n",
       "        vertical-align: middle;\n",
       "    }\n",
       "\n",
       "    .dataframe tbody tr th {\n",
       "        vertical-align: top;\n",
       "    }\n",
       "\n",
       "    .dataframe thead th {\n",
       "        text-align: right;\n",
       "    }\n",
       "</style>\n",
       "<table border=\"1\" class=\"dataframe\">\n",
       "  <thead>\n",
       "    <tr style=\"text-align: right;\">\n",
       "      <th></th>\n",
       "      <th>CLIENTNUM</th>\n",
       "      <th>Attrition_Flag</th>\n",
       "      <th>Customer_Age</th>\n",
       "      <th>Gender</th>\n",
       "      <th>Dependent_count</th>\n",
       "      <th>Education_Level</th>\n",
       "      <th>Marital_Status</th>\n",
       "      <th>Income_Category</th>\n",
       "      <th>Card_Category</th>\n",
       "      <th>Months_on_book</th>\n",
       "      <th>...</th>\n",
       "      <th>Months_Inactive_12_mon</th>\n",
       "      <th>Contacts_Count_12_mon</th>\n",
       "      <th>Credit_Limit</th>\n",
       "      <th>Total_Revolving_Bal</th>\n",
       "      <th>Avg_Open_To_Buy</th>\n",
       "      <th>Total_Amt_Chng_Q4_Q1</th>\n",
       "      <th>Total_Trans_Amt</th>\n",
       "      <th>Total_Trans_Ct</th>\n",
       "      <th>Total_Ct_Chng_Q4_Q1</th>\n",
       "      <th>Avg_Utilization_Ratio</th>\n",
       "    </tr>\n",
       "  </thead>\n",
       "  <tbody>\n",
       "    <tr>\n",
       "      <th>0</th>\n",
       "      <td>768805383</td>\n",
       "      <td>Existing Customer</td>\n",
       "      <td>45</td>\n",
       "      <td>M</td>\n",
       "      <td>3</td>\n",
       "      <td>High School</td>\n",
       "      <td>Married</td>\n",
       "      <td>$60K - $80K</td>\n",
       "      <td>Blue</td>\n",
       "      <td>39</td>\n",
       "      <td>...</td>\n",
       "      <td>1</td>\n",
       "      <td>3</td>\n",
       "      <td>12691.0</td>\n",
       "      <td>777</td>\n",
       "      <td>11914.0</td>\n",
       "      <td>1.335</td>\n",
       "      <td>1144</td>\n",
       "      <td>42</td>\n",
       "      <td>1.625</td>\n",
       "      <td>0.061</td>\n",
       "    </tr>\n",
       "    <tr>\n",
       "      <th>1</th>\n",
       "      <td>818770008</td>\n",
       "      <td>Existing Customer</td>\n",
       "      <td>49</td>\n",
       "      <td>F</td>\n",
       "      <td>5</td>\n",
       "      <td>Graduate</td>\n",
       "      <td>Single</td>\n",
       "      <td>Less than $40K</td>\n",
       "      <td>Blue</td>\n",
       "      <td>44</td>\n",
       "      <td>...</td>\n",
       "      <td>1</td>\n",
       "      <td>2</td>\n",
       "      <td>8256.0</td>\n",
       "      <td>864</td>\n",
       "      <td>7392.0</td>\n",
       "      <td>1.541</td>\n",
       "      <td>1291</td>\n",
       "      <td>33</td>\n",
       "      <td>3.714</td>\n",
       "      <td>0.105</td>\n",
       "    </tr>\n",
       "    <tr>\n",
       "      <th>2</th>\n",
       "      <td>713982108</td>\n",
       "      <td>Existing Customer</td>\n",
       "      <td>51</td>\n",
       "      <td>M</td>\n",
       "      <td>3</td>\n",
       "      <td>Graduate</td>\n",
       "      <td>Married</td>\n",
       "      <td>$80K - $120K</td>\n",
       "      <td>Blue</td>\n",
       "      <td>36</td>\n",
       "      <td>...</td>\n",
       "      <td>1</td>\n",
       "      <td>0</td>\n",
       "      <td>3418.0</td>\n",
       "      <td>0</td>\n",
       "      <td>3418.0</td>\n",
       "      <td>2.594</td>\n",
       "      <td>1887</td>\n",
       "      <td>20</td>\n",
       "      <td>2.333</td>\n",
       "      <td>0.000</td>\n",
       "    </tr>\n",
       "    <tr>\n",
       "      <th>3</th>\n",
       "      <td>769911858</td>\n",
       "      <td>Existing Customer</td>\n",
       "      <td>40</td>\n",
       "      <td>F</td>\n",
       "      <td>4</td>\n",
       "      <td>High School</td>\n",
       "      <td>Unknown</td>\n",
       "      <td>Less than $40K</td>\n",
       "      <td>Blue</td>\n",
       "      <td>34</td>\n",
       "      <td>...</td>\n",
       "      <td>4</td>\n",
       "      <td>1</td>\n",
       "      <td>3313.0</td>\n",
       "      <td>2517</td>\n",
       "      <td>796.0</td>\n",
       "      <td>1.405</td>\n",
       "      <td>1171</td>\n",
       "      <td>20</td>\n",
       "      <td>2.333</td>\n",
       "      <td>0.760</td>\n",
       "    </tr>\n",
       "    <tr>\n",
       "      <th>4</th>\n",
       "      <td>709106358</td>\n",
       "      <td>Existing Customer</td>\n",
       "      <td>40</td>\n",
       "      <td>M</td>\n",
       "      <td>3</td>\n",
       "      <td>Uneducated</td>\n",
       "      <td>Married</td>\n",
       "      <td>$60K - $80K</td>\n",
       "      <td>Blue</td>\n",
       "      <td>21</td>\n",
       "      <td>...</td>\n",
       "      <td>1</td>\n",
       "      <td>0</td>\n",
       "      <td>4716.0</td>\n",
       "      <td>0</td>\n",
       "      <td>4716.0</td>\n",
       "      <td>2.175</td>\n",
       "      <td>816</td>\n",
       "      <td>28</td>\n",
       "      <td>2.500</td>\n",
       "      <td>0.000</td>\n",
       "    </tr>\n",
       "  </tbody>\n",
       "</table>\n",
       "<p>5 rows × 21 columns</p>\n",
       "</div>"
      ],
      "text/plain": [
       "   CLIENTNUM     Attrition_Flag  Customer_Age Gender  Dependent_count  \\\n",
       "0  768805383  Existing Customer            45      M                3   \n",
       "1  818770008  Existing Customer            49      F                5   \n",
       "2  713982108  Existing Customer            51      M                3   \n",
       "3  769911858  Existing Customer            40      F                4   \n",
       "4  709106358  Existing Customer            40      M                3   \n",
       "\n",
       "  Education_Level Marital_Status Income_Category Card_Category  \\\n",
       "0     High School        Married     $60K - $80K          Blue   \n",
       "1        Graduate         Single  Less than $40K          Blue   \n",
       "2        Graduate        Married    $80K - $120K          Blue   \n",
       "3     High School        Unknown  Less than $40K          Blue   \n",
       "4      Uneducated        Married     $60K - $80K          Blue   \n",
       "\n",
       "   Months_on_book  ...  Months_Inactive_12_mon  Contacts_Count_12_mon  \\\n",
       "0              39  ...                       1                      3   \n",
       "1              44  ...                       1                      2   \n",
       "2              36  ...                       1                      0   \n",
       "3              34  ...                       4                      1   \n",
       "4              21  ...                       1                      0   \n",
       "\n",
       "   Credit_Limit  Total_Revolving_Bal  Avg_Open_To_Buy  Total_Amt_Chng_Q4_Q1  \\\n",
       "0       12691.0                  777          11914.0                 1.335   \n",
       "1        8256.0                  864           7392.0                 1.541   \n",
       "2        3418.0                    0           3418.0                 2.594   \n",
       "3        3313.0                 2517            796.0                 1.405   \n",
       "4        4716.0                    0           4716.0                 2.175   \n",
       "\n",
       "   Total_Trans_Amt  Total_Trans_Ct  Total_Ct_Chng_Q4_Q1  Avg_Utilization_Ratio  \n",
       "0             1144              42                1.625                  0.061  \n",
       "1             1291              33                3.714                  0.105  \n",
       "2             1887              20                2.333                  0.000  \n",
       "3             1171              20                2.333                  0.760  \n",
       "4              816              28                2.500                  0.000  \n",
       "\n",
       "[5 rows x 21 columns]"
      ]
     },
     "execution_count": 59,
     "metadata": {},
     "output_type": "execute_result"
    }
   ],
   "source": [
    "data_df.head()"
   ]
  },
  {
   "cell_type": "code",
   "execution_count": 60,
   "id": "1807571f",
   "metadata": {},
   "outputs": [
    {
     "data": {
      "text/plain": [
       "(10127, 21)"
      ]
     },
     "execution_count": 60,
     "metadata": {},
     "output_type": "execute_result"
    }
   ],
   "source": [
    "data_df.shape"
   ]
  },
  {
   "cell_type": "code",
   "execution_count": 61,
   "id": "45731bab",
   "metadata": {},
   "outputs": [
    {
     "name": "stdout",
     "output_type": "stream",
     "text": [
      "<class 'pandas.core.frame.DataFrame'>\n",
      "RangeIndex: 10127 entries, 0 to 10126\n",
      "Data columns (total 21 columns):\n",
      " #   Column                    Non-Null Count  Dtype  \n",
      "---  ------                    --------------  -----  \n",
      " 0   CLIENTNUM                 10127 non-null  int64  \n",
      " 1   Attrition_Flag            10127 non-null  object \n",
      " 2   Customer_Age              10127 non-null  int64  \n",
      " 3   Gender                    10127 non-null  object \n",
      " 4   Dependent_count           10127 non-null  int64  \n",
      " 5   Education_Level           10127 non-null  object \n",
      " 6   Marital_Status            10127 non-null  object \n",
      " 7   Income_Category           10127 non-null  object \n",
      " 8   Card_Category             10127 non-null  object \n",
      " 9   Months_on_book            10127 non-null  int64  \n",
      " 10  Total_Relationship_Count  10127 non-null  int64  \n",
      " 11  Months_Inactive_12_mon    10127 non-null  int64  \n",
      " 12  Contacts_Count_12_mon     10127 non-null  int64  \n",
      " 13  Credit_Limit              10127 non-null  float64\n",
      " 14  Total_Revolving_Bal       10127 non-null  int64  \n",
      " 15  Avg_Open_To_Buy           10127 non-null  float64\n",
      " 16  Total_Amt_Chng_Q4_Q1      10127 non-null  float64\n",
      " 17  Total_Trans_Amt           10127 non-null  int64  \n",
      " 18  Total_Trans_Ct            10127 non-null  int64  \n",
      " 19  Total_Ct_Chng_Q4_Q1       10127 non-null  float64\n",
      " 20  Avg_Utilization_Ratio     10127 non-null  float64\n",
      "dtypes: float64(5), int64(10), object(6)\n",
      "memory usage: 1.6+ MB\n"
     ]
    }
   ],
   "source": [
    "data_df.info()"
   ]
  },
  {
   "cell_type": "code",
   "execution_count": 62,
   "id": "41131ae3",
   "metadata": {},
   "outputs": [
    {
     "data": {
      "text/html": [
       "<div>\n",
       "<style scoped>\n",
       "    .dataframe tbody tr th:only-of-type {\n",
       "        vertical-align: middle;\n",
       "    }\n",
       "\n",
       "    .dataframe tbody tr th {\n",
       "        vertical-align: top;\n",
       "    }\n",
       "\n",
       "    .dataframe thead th {\n",
       "        text-align: right;\n",
       "    }\n",
       "</style>\n",
       "<table border=\"1\" class=\"dataframe\">\n",
       "  <thead>\n",
       "    <tr style=\"text-align: right;\">\n",
       "      <th></th>\n",
       "      <th>CLIENTNUM</th>\n",
       "      <th>Customer_Age</th>\n",
       "      <th>Dependent_count</th>\n",
       "      <th>Months_on_book</th>\n",
       "      <th>Total_Relationship_Count</th>\n",
       "      <th>Months_Inactive_12_mon</th>\n",
       "      <th>Contacts_Count_12_mon</th>\n",
       "      <th>Credit_Limit</th>\n",
       "      <th>Total_Revolving_Bal</th>\n",
       "      <th>Avg_Open_To_Buy</th>\n",
       "      <th>Total_Amt_Chng_Q4_Q1</th>\n",
       "      <th>Total_Trans_Amt</th>\n",
       "      <th>Total_Trans_Ct</th>\n",
       "      <th>Total_Ct_Chng_Q4_Q1</th>\n",
       "      <th>Avg_Utilization_Ratio</th>\n",
       "    </tr>\n",
       "  </thead>\n",
       "  <tbody>\n",
       "    <tr>\n",
       "      <th>count</th>\n",
       "      <td>1.012700e+04</td>\n",
       "      <td>10127.000000</td>\n",
       "      <td>10127.000000</td>\n",
       "      <td>10127.000000</td>\n",
       "      <td>10127.000000</td>\n",
       "      <td>10127.000000</td>\n",
       "      <td>10127.000000</td>\n",
       "      <td>10127.000000</td>\n",
       "      <td>10127.000000</td>\n",
       "      <td>10127.000000</td>\n",
       "      <td>10127.000000</td>\n",
       "      <td>10127.000000</td>\n",
       "      <td>10127.000000</td>\n",
       "      <td>10127.000000</td>\n",
       "      <td>10127.000000</td>\n",
       "    </tr>\n",
       "    <tr>\n",
       "      <th>mean</th>\n",
       "      <td>7.391776e+08</td>\n",
       "      <td>46.325960</td>\n",
       "      <td>2.346203</td>\n",
       "      <td>35.928409</td>\n",
       "      <td>3.812580</td>\n",
       "      <td>2.341167</td>\n",
       "      <td>2.455317</td>\n",
       "      <td>8631.953698</td>\n",
       "      <td>1162.814061</td>\n",
       "      <td>7469.139637</td>\n",
       "      <td>0.759941</td>\n",
       "      <td>4404.086304</td>\n",
       "      <td>64.858695</td>\n",
       "      <td>0.712222</td>\n",
       "      <td>0.274894</td>\n",
       "    </tr>\n",
       "    <tr>\n",
       "      <th>std</th>\n",
       "      <td>3.690378e+07</td>\n",
       "      <td>8.016814</td>\n",
       "      <td>1.298908</td>\n",
       "      <td>7.986416</td>\n",
       "      <td>1.554408</td>\n",
       "      <td>1.010622</td>\n",
       "      <td>1.106225</td>\n",
       "      <td>9088.776650</td>\n",
       "      <td>814.987335</td>\n",
       "      <td>9090.685324</td>\n",
       "      <td>0.219207</td>\n",
       "      <td>3397.129254</td>\n",
       "      <td>23.472570</td>\n",
       "      <td>0.238086</td>\n",
       "      <td>0.275691</td>\n",
       "    </tr>\n",
       "    <tr>\n",
       "      <th>min</th>\n",
       "      <td>7.080821e+08</td>\n",
       "      <td>26.000000</td>\n",
       "      <td>0.000000</td>\n",
       "      <td>13.000000</td>\n",
       "      <td>1.000000</td>\n",
       "      <td>0.000000</td>\n",
       "      <td>0.000000</td>\n",
       "      <td>1438.300000</td>\n",
       "      <td>0.000000</td>\n",
       "      <td>3.000000</td>\n",
       "      <td>0.000000</td>\n",
       "      <td>510.000000</td>\n",
       "      <td>10.000000</td>\n",
       "      <td>0.000000</td>\n",
       "      <td>0.000000</td>\n",
       "    </tr>\n",
       "    <tr>\n",
       "      <th>25%</th>\n",
       "      <td>7.130368e+08</td>\n",
       "      <td>41.000000</td>\n",
       "      <td>1.000000</td>\n",
       "      <td>31.000000</td>\n",
       "      <td>3.000000</td>\n",
       "      <td>2.000000</td>\n",
       "      <td>2.000000</td>\n",
       "      <td>2555.000000</td>\n",
       "      <td>359.000000</td>\n",
       "      <td>1324.500000</td>\n",
       "      <td>0.631000</td>\n",
       "      <td>2155.500000</td>\n",
       "      <td>45.000000</td>\n",
       "      <td>0.582000</td>\n",
       "      <td>0.023000</td>\n",
       "    </tr>\n",
       "    <tr>\n",
       "      <th>50%</th>\n",
       "      <td>7.179264e+08</td>\n",
       "      <td>46.000000</td>\n",
       "      <td>2.000000</td>\n",
       "      <td>36.000000</td>\n",
       "      <td>4.000000</td>\n",
       "      <td>2.000000</td>\n",
       "      <td>2.000000</td>\n",
       "      <td>4549.000000</td>\n",
       "      <td>1276.000000</td>\n",
       "      <td>3474.000000</td>\n",
       "      <td>0.736000</td>\n",
       "      <td>3899.000000</td>\n",
       "      <td>67.000000</td>\n",
       "      <td>0.702000</td>\n",
       "      <td>0.176000</td>\n",
       "    </tr>\n",
       "    <tr>\n",
       "      <th>75%</th>\n",
       "      <td>7.731435e+08</td>\n",
       "      <td>52.000000</td>\n",
       "      <td>3.000000</td>\n",
       "      <td>40.000000</td>\n",
       "      <td>5.000000</td>\n",
       "      <td>3.000000</td>\n",
       "      <td>3.000000</td>\n",
       "      <td>11067.500000</td>\n",
       "      <td>1784.000000</td>\n",
       "      <td>9859.000000</td>\n",
       "      <td>0.859000</td>\n",
       "      <td>4741.000000</td>\n",
       "      <td>81.000000</td>\n",
       "      <td>0.818000</td>\n",
       "      <td>0.503000</td>\n",
       "    </tr>\n",
       "    <tr>\n",
       "      <th>max</th>\n",
       "      <td>8.283431e+08</td>\n",
       "      <td>73.000000</td>\n",
       "      <td>5.000000</td>\n",
       "      <td>56.000000</td>\n",
       "      <td>6.000000</td>\n",
       "      <td>6.000000</td>\n",
       "      <td>6.000000</td>\n",
       "      <td>34516.000000</td>\n",
       "      <td>2517.000000</td>\n",
       "      <td>34516.000000</td>\n",
       "      <td>3.397000</td>\n",
       "      <td>18484.000000</td>\n",
       "      <td>139.000000</td>\n",
       "      <td>3.714000</td>\n",
       "      <td>0.999000</td>\n",
       "    </tr>\n",
       "  </tbody>\n",
       "</table>\n",
       "</div>"
      ],
      "text/plain": [
       "          CLIENTNUM  Customer_Age  Dependent_count  Months_on_book  \\\n",
       "count  1.012700e+04  10127.000000     10127.000000    10127.000000   \n",
       "mean   7.391776e+08     46.325960         2.346203       35.928409   \n",
       "std    3.690378e+07      8.016814         1.298908        7.986416   \n",
       "min    7.080821e+08     26.000000         0.000000       13.000000   \n",
       "25%    7.130368e+08     41.000000         1.000000       31.000000   \n",
       "50%    7.179264e+08     46.000000         2.000000       36.000000   \n",
       "75%    7.731435e+08     52.000000         3.000000       40.000000   \n",
       "max    8.283431e+08     73.000000         5.000000       56.000000   \n",
       "\n",
       "       Total_Relationship_Count  Months_Inactive_12_mon  \\\n",
       "count              10127.000000            10127.000000   \n",
       "mean                   3.812580                2.341167   \n",
       "std                    1.554408                1.010622   \n",
       "min                    1.000000                0.000000   \n",
       "25%                    3.000000                2.000000   \n",
       "50%                    4.000000                2.000000   \n",
       "75%                    5.000000                3.000000   \n",
       "max                    6.000000                6.000000   \n",
       "\n",
       "       Contacts_Count_12_mon  Credit_Limit  Total_Revolving_Bal  \\\n",
       "count           10127.000000  10127.000000         10127.000000   \n",
       "mean                2.455317   8631.953698          1162.814061   \n",
       "std                 1.106225   9088.776650           814.987335   \n",
       "min                 0.000000   1438.300000             0.000000   \n",
       "25%                 2.000000   2555.000000           359.000000   \n",
       "50%                 2.000000   4549.000000          1276.000000   \n",
       "75%                 3.000000  11067.500000          1784.000000   \n",
       "max                 6.000000  34516.000000          2517.000000   \n",
       "\n",
       "       Avg_Open_To_Buy  Total_Amt_Chng_Q4_Q1  Total_Trans_Amt  Total_Trans_Ct  \\\n",
       "count     10127.000000          10127.000000     10127.000000    10127.000000   \n",
       "mean       7469.139637              0.759941      4404.086304       64.858695   \n",
       "std        9090.685324              0.219207      3397.129254       23.472570   \n",
       "min           3.000000              0.000000       510.000000       10.000000   \n",
       "25%        1324.500000              0.631000      2155.500000       45.000000   \n",
       "50%        3474.000000              0.736000      3899.000000       67.000000   \n",
       "75%        9859.000000              0.859000      4741.000000       81.000000   \n",
       "max       34516.000000              3.397000     18484.000000      139.000000   \n",
       "\n",
       "       Total_Ct_Chng_Q4_Q1  Avg_Utilization_Ratio  \n",
       "count         10127.000000           10127.000000  \n",
       "mean              0.712222               0.274894  \n",
       "std               0.238086               0.275691  \n",
       "min               0.000000               0.000000  \n",
       "25%               0.582000               0.023000  \n",
       "50%               0.702000               0.176000  \n",
       "75%               0.818000               0.503000  \n",
       "max               3.714000               0.999000  "
      ]
     },
     "execution_count": 62,
     "metadata": {},
     "output_type": "execute_result"
    }
   ],
   "source": [
    "# Statistical values of numerical columns can be check here. This way we can figure out the outliers according to statictical values.\n",
    "data_df.describe()"
   ]
  },
  {
   "cell_type": "code",
   "execution_count": 63,
   "id": "d719dda1",
   "metadata": {},
   "outputs": [
    {
     "data": {
      "text/plain": [
       "Index(['CLIENTNUM', 'Attrition_Flag', 'Customer_Age', 'Gender',\n",
       "       'Dependent_count', 'Education_Level', 'Marital_Status',\n",
       "       'Income_Category', 'Card_Category', 'Months_on_book',\n",
       "       'Total_Relationship_Count', 'Months_Inactive_12_mon',\n",
       "       'Contacts_Count_12_mon', 'Credit_Limit', 'Total_Revolving_Bal',\n",
       "       'Avg_Open_To_Buy', 'Total_Amt_Chng_Q4_Q1', 'Total_Trans_Amt',\n",
       "       'Total_Trans_Ct', 'Total_Ct_Chng_Q4_Q1', 'Avg_Utilization_Ratio'],\n",
       "      dtype='object')"
      ]
     },
     "execution_count": 63,
     "metadata": {},
     "output_type": "execute_result"
    }
   ],
   "source": [
    "data_df.columns"
   ]
  },
  {
   "cell_type": "code",
   "execution_count": 64,
   "id": "25d238ee",
   "metadata": {},
   "outputs": [
    {
     "data": {
      "text/plain": [
       "CLIENTNUM                   0\n",
       "Attrition_Flag              0\n",
       "Customer_Age                0\n",
       "Gender                      0\n",
       "Dependent_count             0\n",
       "Education_Level             0\n",
       "Marital_Status              0\n",
       "Income_Category             0\n",
       "Card_Category               0\n",
       "Months_on_book              0\n",
       "Total_Relationship_Count    0\n",
       "Months_Inactive_12_mon      0\n",
       "Contacts_Count_12_mon       0\n",
       "Credit_Limit                0\n",
       "Total_Revolving_Bal         0\n",
       "Avg_Open_To_Buy             0\n",
       "Total_Amt_Chng_Q4_Q1        0\n",
       "Total_Trans_Amt             0\n",
       "Total_Trans_Ct              0\n",
       "Total_Ct_Chng_Q4_Q1         0\n",
       "Avg_Utilization_Ratio       0\n",
       "dtype: int64"
      ]
     },
     "execution_count": 64,
     "metadata": {},
     "output_type": "execute_result"
    }
   ],
   "source": [
    "data_df.isnull().sum()"
   ]
  },
  {
   "cell_type": "code",
   "execution_count": 65,
   "id": "8ba02cf7",
   "metadata": {},
   "outputs": [
    {
     "data": {
      "text/html": [
       "<div>\n",
       "<style scoped>\n",
       "    .dataframe tbody tr th:only-of-type {\n",
       "        vertical-align: middle;\n",
       "    }\n",
       "\n",
       "    .dataframe tbody tr th {\n",
       "        vertical-align: top;\n",
       "    }\n",
       "\n",
       "    .dataframe thead th {\n",
       "        text-align: right;\n",
       "    }\n",
       "</style>\n",
       "<table border=\"1\" class=\"dataframe\">\n",
       "  <thead>\n",
       "    <tr style=\"text-align: right;\">\n",
       "      <th></th>\n",
       "      <th>CLIENTNUM</th>\n",
       "      <th>Attrition_Flag</th>\n",
       "      <th>Customer_Age</th>\n",
       "      <th>Gender</th>\n",
       "      <th>Dependent_count</th>\n",
       "      <th>Education_Level</th>\n",
       "      <th>Marital_Status</th>\n",
       "      <th>Income_Category</th>\n",
       "      <th>Card_Category</th>\n",
       "      <th>Months_on_book</th>\n",
       "      <th>...</th>\n",
       "      <th>Months_Inactive_12_mon</th>\n",
       "      <th>Contacts_Count_12_mon</th>\n",
       "      <th>Credit_Limit</th>\n",
       "      <th>Total_Revolving_Bal</th>\n",
       "      <th>Avg_Open_To_Buy</th>\n",
       "      <th>Total_Amt_Chng_Q4_Q1</th>\n",
       "      <th>Total_Trans_Amt</th>\n",
       "      <th>Total_Trans_Ct</th>\n",
       "      <th>Total_Ct_Chng_Q4_Q1</th>\n",
       "      <th>Avg_Utilization_Ratio</th>\n",
       "    </tr>\n",
       "  </thead>\n",
       "  <tbody>\n",
       "  </tbody>\n",
       "</table>\n",
       "<p>0 rows × 21 columns</p>\n",
       "</div>"
      ],
      "text/plain": [
       "Empty DataFrame\n",
       "Columns: [CLIENTNUM, Attrition_Flag, Customer_Age, Gender, Dependent_count, Education_Level, Marital_Status, Income_Category, Card_Category, Months_on_book, Total_Relationship_Count, Months_Inactive_12_mon, Contacts_Count_12_mon, Credit_Limit, Total_Revolving_Bal, Avg_Open_To_Buy, Total_Amt_Chng_Q4_Q1, Total_Trans_Amt, Total_Trans_Ct, Total_Ct_Chng_Q4_Q1, Avg_Utilization_Ratio]\n",
       "Index: []\n",
       "\n",
       "[0 rows x 21 columns]"
      ]
     },
     "execution_count": 65,
     "metadata": {},
     "output_type": "execute_result"
    }
   ],
   "source": [
    "data_df[data_df.duplicated()]"
   ]
  },
  {
   "cell_type": "code",
   "execution_count": 66,
   "id": "cee7d9f4",
   "metadata": {},
   "outputs": [
    {
     "data": {
      "text/html": [
       "<div>\n",
       "<style scoped>\n",
       "    .dataframe tbody tr th:only-of-type {\n",
       "        vertical-align: middle;\n",
       "    }\n",
       "\n",
       "    .dataframe tbody tr th {\n",
       "        vertical-align: top;\n",
       "    }\n",
       "\n",
       "    .dataframe thead th {\n",
       "        text-align: right;\n",
       "    }\n",
       "</style>\n",
       "<table border=\"1\" class=\"dataframe\">\n",
       "  <thead>\n",
       "    <tr style=\"text-align: right;\">\n",
       "      <th></th>\n",
       "      <th>CLIENTNUM</th>\n",
       "      <th>Customer_Age</th>\n",
       "      <th>Dependent_count</th>\n",
       "      <th>Months_on_book</th>\n",
       "      <th>Total_Relationship_Count</th>\n",
       "      <th>Months_Inactive_12_mon</th>\n",
       "      <th>Contacts_Count_12_mon</th>\n",
       "      <th>Credit_Limit</th>\n",
       "      <th>Total_Revolving_Bal</th>\n",
       "      <th>Avg_Open_To_Buy</th>\n",
       "      <th>Total_Amt_Chng_Q4_Q1</th>\n",
       "      <th>Total_Trans_Amt</th>\n",
       "      <th>Total_Trans_Ct</th>\n",
       "      <th>Total_Ct_Chng_Q4_Q1</th>\n",
       "      <th>Avg_Utilization_Ratio</th>\n",
       "    </tr>\n",
       "  </thead>\n",
       "  <tbody>\n",
       "    <tr>\n",
       "      <th>CLIENTNUM</th>\n",
       "      <td>1.000000</td>\n",
       "      <td>0.007613</td>\n",
       "      <td>0.006772</td>\n",
       "      <td>0.134588</td>\n",
       "      <td>0.006907</td>\n",
       "      <td>0.005729</td>\n",
       "      <td>0.005694</td>\n",
       "      <td>0.005708</td>\n",
       "      <td>0.000825</td>\n",
       "      <td>0.005633</td>\n",
       "      <td>0.017369</td>\n",
       "      <td>-0.019692</td>\n",
       "      <td>-0.002961</td>\n",
       "      <td>0.007696</td>\n",
       "      <td>0.000266</td>\n",
       "    </tr>\n",
       "    <tr>\n",
       "      <th>Customer_Age</th>\n",
       "      <td>0.007613</td>\n",
       "      <td>1.000000</td>\n",
       "      <td>-0.122254</td>\n",
       "      <td>0.788912</td>\n",
       "      <td>-0.010931</td>\n",
       "      <td>0.054361</td>\n",
       "      <td>-0.018452</td>\n",
       "      <td>0.002476</td>\n",
       "      <td>0.014780</td>\n",
       "      <td>0.001151</td>\n",
       "      <td>-0.062042</td>\n",
       "      <td>-0.046446</td>\n",
       "      <td>-0.067097</td>\n",
       "      <td>-0.012143</td>\n",
       "      <td>0.007114</td>\n",
       "    </tr>\n",
       "    <tr>\n",
       "      <th>Dependent_count</th>\n",
       "      <td>0.006772</td>\n",
       "      <td>-0.122254</td>\n",
       "      <td>1.000000</td>\n",
       "      <td>-0.103062</td>\n",
       "      <td>-0.039076</td>\n",
       "      <td>-0.010768</td>\n",
       "      <td>-0.040505</td>\n",
       "      <td>0.068065</td>\n",
       "      <td>-0.002688</td>\n",
       "      <td>0.068291</td>\n",
       "      <td>-0.035439</td>\n",
       "      <td>0.025046</td>\n",
       "      <td>0.049912</td>\n",
       "      <td>0.011087</td>\n",
       "      <td>-0.037135</td>\n",
       "    </tr>\n",
       "    <tr>\n",
       "      <th>Months_on_book</th>\n",
       "      <td>0.134588</td>\n",
       "      <td>0.788912</td>\n",
       "      <td>-0.103062</td>\n",
       "      <td>1.000000</td>\n",
       "      <td>-0.009203</td>\n",
       "      <td>0.074164</td>\n",
       "      <td>-0.010774</td>\n",
       "      <td>0.007507</td>\n",
       "      <td>0.008623</td>\n",
       "      <td>0.006732</td>\n",
       "      <td>-0.048959</td>\n",
       "      <td>-0.038591</td>\n",
       "      <td>-0.049819</td>\n",
       "      <td>-0.014072</td>\n",
       "      <td>-0.007541</td>\n",
       "    </tr>\n",
       "    <tr>\n",
       "      <th>Total_Relationship_Count</th>\n",
       "      <td>0.006907</td>\n",
       "      <td>-0.010931</td>\n",
       "      <td>-0.039076</td>\n",
       "      <td>-0.009203</td>\n",
       "      <td>1.000000</td>\n",
       "      <td>-0.003675</td>\n",
       "      <td>0.055203</td>\n",
       "      <td>-0.071386</td>\n",
       "      <td>0.013726</td>\n",
       "      <td>-0.072601</td>\n",
       "      <td>0.050119</td>\n",
       "      <td>-0.347229</td>\n",
       "      <td>-0.241891</td>\n",
       "      <td>0.040831</td>\n",
       "      <td>0.067663</td>\n",
       "    </tr>\n",
       "    <tr>\n",
       "      <th>Months_Inactive_12_mon</th>\n",
       "      <td>0.005729</td>\n",
       "      <td>0.054361</td>\n",
       "      <td>-0.010768</td>\n",
       "      <td>0.074164</td>\n",
       "      <td>-0.003675</td>\n",
       "      <td>1.000000</td>\n",
       "      <td>0.029493</td>\n",
       "      <td>-0.020394</td>\n",
       "      <td>-0.042210</td>\n",
       "      <td>-0.016605</td>\n",
       "      <td>-0.032247</td>\n",
       "      <td>-0.036982</td>\n",
       "      <td>-0.042787</td>\n",
       "      <td>-0.038989</td>\n",
       "      <td>-0.007503</td>\n",
       "    </tr>\n",
       "    <tr>\n",
       "      <th>Contacts_Count_12_mon</th>\n",
       "      <td>0.005694</td>\n",
       "      <td>-0.018452</td>\n",
       "      <td>-0.040505</td>\n",
       "      <td>-0.010774</td>\n",
       "      <td>0.055203</td>\n",
       "      <td>0.029493</td>\n",
       "      <td>1.000000</td>\n",
       "      <td>0.020817</td>\n",
       "      <td>-0.053913</td>\n",
       "      <td>0.025646</td>\n",
       "      <td>-0.024445</td>\n",
       "      <td>-0.112774</td>\n",
       "      <td>-0.152213</td>\n",
       "      <td>-0.094997</td>\n",
       "      <td>-0.055471</td>\n",
       "    </tr>\n",
       "    <tr>\n",
       "      <th>Credit_Limit</th>\n",
       "      <td>0.005708</td>\n",
       "      <td>0.002476</td>\n",
       "      <td>0.068065</td>\n",
       "      <td>0.007507</td>\n",
       "      <td>-0.071386</td>\n",
       "      <td>-0.020394</td>\n",
       "      <td>0.020817</td>\n",
       "      <td>1.000000</td>\n",
       "      <td>0.042493</td>\n",
       "      <td>0.995981</td>\n",
       "      <td>0.012813</td>\n",
       "      <td>0.171730</td>\n",
       "      <td>0.075927</td>\n",
       "      <td>-0.002020</td>\n",
       "      <td>-0.482965</td>\n",
       "    </tr>\n",
       "    <tr>\n",
       "      <th>Total_Revolving_Bal</th>\n",
       "      <td>0.000825</td>\n",
       "      <td>0.014780</td>\n",
       "      <td>-0.002688</td>\n",
       "      <td>0.008623</td>\n",
       "      <td>0.013726</td>\n",
       "      <td>-0.042210</td>\n",
       "      <td>-0.053913</td>\n",
       "      <td>0.042493</td>\n",
       "      <td>1.000000</td>\n",
       "      <td>-0.047167</td>\n",
       "      <td>0.058174</td>\n",
       "      <td>0.064370</td>\n",
       "      <td>0.056060</td>\n",
       "      <td>0.089861</td>\n",
       "      <td>0.624022</td>\n",
       "    </tr>\n",
       "    <tr>\n",
       "      <th>Avg_Open_To_Buy</th>\n",
       "      <td>0.005633</td>\n",
       "      <td>0.001151</td>\n",
       "      <td>0.068291</td>\n",
       "      <td>0.006732</td>\n",
       "      <td>-0.072601</td>\n",
       "      <td>-0.016605</td>\n",
       "      <td>0.025646</td>\n",
       "      <td>0.995981</td>\n",
       "      <td>-0.047167</td>\n",
       "      <td>1.000000</td>\n",
       "      <td>0.007595</td>\n",
       "      <td>0.165923</td>\n",
       "      <td>0.070885</td>\n",
       "      <td>-0.010076</td>\n",
       "      <td>-0.538808</td>\n",
       "    </tr>\n",
       "    <tr>\n",
       "      <th>Total_Amt_Chng_Q4_Q1</th>\n",
       "      <td>0.017369</td>\n",
       "      <td>-0.062042</td>\n",
       "      <td>-0.035439</td>\n",
       "      <td>-0.048959</td>\n",
       "      <td>0.050119</td>\n",
       "      <td>-0.032247</td>\n",
       "      <td>-0.024445</td>\n",
       "      <td>0.012813</td>\n",
       "      <td>0.058174</td>\n",
       "      <td>0.007595</td>\n",
       "      <td>1.000000</td>\n",
       "      <td>0.039678</td>\n",
       "      <td>0.005469</td>\n",
       "      <td>0.384189</td>\n",
       "      <td>0.035235</td>\n",
       "    </tr>\n",
       "    <tr>\n",
       "      <th>Total_Trans_Amt</th>\n",
       "      <td>-0.019692</td>\n",
       "      <td>-0.046446</td>\n",
       "      <td>0.025046</td>\n",
       "      <td>-0.038591</td>\n",
       "      <td>-0.347229</td>\n",
       "      <td>-0.036982</td>\n",
       "      <td>-0.112774</td>\n",
       "      <td>0.171730</td>\n",
       "      <td>0.064370</td>\n",
       "      <td>0.165923</td>\n",
       "      <td>0.039678</td>\n",
       "      <td>1.000000</td>\n",
       "      <td>0.807192</td>\n",
       "      <td>0.085581</td>\n",
       "      <td>-0.083034</td>\n",
       "    </tr>\n",
       "    <tr>\n",
       "      <th>Total_Trans_Ct</th>\n",
       "      <td>-0.002961</td>\n",
       "      <td>-0.067097</td>\n",
       "      <td>0.049912</td>\n",
       "      <td>-0.049819</td>\n",
       "      <td>-0.241891</td>\n",
       "      <td>-0.042787</td>\n",
       "      <td>-0.152213</td>\n",
       "      <td>0.075927</td>\n",
       "      <td>0.056060</td>\n",
       "      <td>0.070885</td>\n",
       "      <td>0.005469</td>\n",
       "      <td>0.807192</td>\n",
       "      <td>1.000000</td>\n",
       "      <td>0.112324</td>\n",
       "      <td>0.002838</td>\n",
       "    </tr>\n",
       "    <tr>\n",
       "      <th>Total_Ct_Chng_Q4_Q1</th>\n",
       "      <td>0.007696</td>\n",
       "      <td>-0.012143</td>\n",
       "      <td>0.011087</td>\n",
       "      <td>-0.014072</td>\n",
       "      <td>0.040831</td>\n",
       "      <td>-0.038989</td>\n",
       "      <td>-0.094997</td>\n",
       "      <td>-0.002020</td>\n",
       "      <td>0.089861</td>\n",
       "      <td>-0.010076</td>\n",
       "      <td>0.384189</td>\n",
       "      <td>0.085581</td>\n",
       "      <td>0.112324</td>\n",
       "      <td>1.000000</td>\n",
       "      <td>0.074143</td>\n",
       "    </tr>\n",
       "    <tr>\n",
       "      <th>Avg_Utilization_Ratio</th>\n",
       "      <td>0.000266</td>\n",
       "      <td>0.007114</td>\n",
       "      <td>-0.037135</td>\n",
       "      <td>-0.007541</td>\n",
       "      <td>0.067663</td>\n",
       "      <td>-0.007503</td>\n",
       "      <td>-0.055471</td>\n",
       "      <td>-0.482965</td>\n",
       "      <td>0.624022</td>\n",
       "      <td>-0.538808</td>\n",
       "      <td>0.035235</td>\n",
       "      <td>-0.083034</td>\n",
       "      <td>0.002838</td>\n",
       "      <td>0.074143</td>\n",
       "      <td>1.000000</td>\n",
       "    </tr>\n",
       "  </tbody>\n",
       "</table>\n",
       "</div>"
      ],
      "text/plain": [
       "                          CLIENTNUM  Customer_Age  Dependent_count  \\\n",
       "CLIENTNUM                  1.000000      0.007613         0.006772   \n",
       "Customer_Age               0.007613      1.000000        -0.122254   \n",
       "Dependent_count            0.006772     -0.122254         1.000000   \n",
       "Months_on_book             0.134588      0.788912        -0.103062   \n",
       "Total_Relationship_Count   0.006907     -0.010931        -0.039076   \n",
       "Months_Inactive_12_mon     0.005729      0.054361        -0.010768   \n",
       "Contacts_Count_12_mon      0.005694     -0.018452        -0.040505   \n",
       "Credit_Limit               0.005708      0.002476         0.068065   \n",
       "Total_Revolving_Bal        0.000825      0.014780        -0.002688   \n",
       "Avg_Open_To_Buy            0.005633      0.001151         0.068291   \n",
       "Total_Amt_Chng_Q4_Q1       0.017369     -0.062042        -0.035439   \n",
       "Total_Trans_Amt           -0.019692     -0.046446         0.025046   \n",
       "Total_Trans_Ct            -0.002961     -0.067097         0.049912   \n",
       "Total_Ct_Chng_Q4_Q1        0.007696     -0.012143         0.011087   \n",
       "Avg_Utilization_Ratio      0.000266      0.007114        -0.037135   \n",
       "\n",
       "                          Months_on_book  Total_Relationship_Count  \\\n",
       "CLIENTNUM                       0.134588                  0.006907   \n",
       "Customer_Age                    0.788912                 -0.010931   \n",
       "Dependent_count                -0.103062                 -0.039076   \n",
       "Months_on_book                  1.000000                 -0.009203   \n",
       "Total_Relationship_Count       -0.009203                  1.000000   \n",
       "Months_Inactive_12_mon          0.074164                 -0.003675   \n",
       "Contacts_Count_12_mon          -0.010774                  0.055203   \n",
       "Credit_Limit                    0.007507                 -0.071386   \n",
       "Total_Revolving_Bal             0.008623                  0.013726   \n",
       "Avg_Open_To_Buy                 0.006732                 -0.072601   \n",
       "Total_Amt_Chng_Q4_Q1           -0.048959                  0.050119   \n",
       "Total_Trans_Amt                -0.038591                 -0.347229   \n",
       "Total_Trans_Ct                 -0.049819                 -0.241891   \n",
       "Total_Ct_Chng_Q4_Q1            -0.014072                  0.040831   \n",
       "Avg_Utilization_Ratio          -0.007541                  0.067663   \n",
       "\n",
       "                          Months_Inactive_12_mon  Contacts_Count_12_mon  \\\n",
       "CLIENTNUM                               0.005729               0.005694   \n",
       "Customer_Age                            0.054361              -0.018452   \n",
       "Dependent_count                        -0.010768              -0.040505   \n",
       "Months_on_book                          0.074164              -0.010774   \n",
       "Total_Relationship_Count               -0.003675               0.055203   \n",
       "Months_Inactive_12_mon                  1.000000               0.029493   \n",
       "Contacts_Count_12_mon                   0.029493               1.000000   \n",
       "Credit_Limit                           -0.020394               0.020817   \n",
       "Total_Revolving_Bal                    -0.042210              -0.053913   \n",
       "Avg_Open_To_Buy                        -0.016605               0.025646   \n",
       "Total_Amt_Chng_Q4_Q1                   -0.032247              -0.024445   \n",
       "Total_Trans_Amt                        -0.036982              -0.112774   \n",
       "Total_Trans_Ct                         -0.042787              -0.152213   \n",
       "Total_Ct_Chng_Q4_Q1                    -0.038989              -0.094997   \n",
       "Avg_Utilization_Ratio                  -0.007503              -0.055471   \n",
       "\n",
       "                          Credit_Limit  Total_Revolving_Bal  Avg_Open_To_Buy  \\\n",
       "CLIENTNUM                     0.005708             0.000825         0.005633   \n",
       "Customer_Age                  0.002476             0.014780         0.001151   \n",
       "Dependent_count               0.068065            -0.002688         0.068291   \n",
       "Months_on_book                0.007507             0.008623         0.006732   \n",
       "Total_Relationship_Count     -0.071386             0.013726        -0.072601   \n",
       "Months_Inactive_12_mon       -0.020394            -0.042210        -0.016605   \n",
       "Contacts_Count_12_mon         0.020817            -0.053913         0.025646   \n",
       "Credit_Limit                  1.000000             0.042493         0.995981   \n",
       "Total_Revolving_Bal           0.042493             1.000000        -0.047167   \n",
       "Avg_Open_To_Buy               0.995981            -0.047167         1.000000   \n",
       "Total_Amt_Chng_Q4_Q1          0.012813             0.058174         0.007595   \n",
       "Total_Trans_Amt               0.171730             0.064370         0.165923   \n",
       "Total_Trans_Ct                0.075927             0.056060         0.070885   \n",
       "Total_Ct_Chng_Q4_Q1          -0.002020             0.089861        -0.010076   \n",
       "Avg_Utilization_Ratio        -0.482965             0.624022        -0.538808   \n",
       "\n",
       "                          Total_Amt_Chng_Q4_Q1  Total_Trans_Amt  \\\n",
       "CLIENTNUM                             0.017369        -0.019692   \n",
       "Customer_Age                         -0.062042        -0.046446   \n",
       "Dependent_count                      -0.035439         0.025046   \n",
       "Months_on_book                       -0.048959        -0.038591   \n",
       "Total_Relationship_Count              0.050119        -0.347229   \n",
       "Months_Inactive_12_mon               -0.032247        -0.036982   \n",
       "Contacts_Count_12_mon                -0.024445        -0.112774   \n",
       "Credit_Limit                          0.012813         0.171730   \n",
       "Total_Revolving_Bal                   0.058174         0.064370   \n",
       "Avg_Open_To_Buy                       0.007595         0.165923   \n",
       "Total_Amt_Chng_Q4_Q1                  1.000000         0.039678   \n",
       "Total_Trans_Amt                       0.039678         1.000000   \n",
       "Total_Trans_Ct                        0.005469         0.807192   \n",
       "Total_Ct_Chng_Q4_Q1                   0.384189         0.085581   \n",
       "Avg_Utilization_Ratio                 0.035235        -0.083034   \n",
       "\n",
       "                          Total_Trans_Ct  Total_Ct_Chng_Q4_Q1  \\\n",
       "CLIENTNUM                      -0.002961             0.007696   \n",
       "Customer_Age                   -0.067097            -0.012143   \n",
       "Dependent_count                 0.049912             0.011087   \n",
       "Months_on_book                 -0.049819            -0.014072   \n",
       "Total_Relationship_Count       -0.241891             0.040831   \n",
       "Months_Inactive_12_mon         -0.042787            -0.038989   \n",
       "Contacts_Count_12_mon          -0.152213            -0.094997   \n",
       "Credit_Limit                    0.075927            -0.002020   \n",
       "Total_Revolving_Bal             0.056060             0.089861   \n",
       "Avg_Open_To_Buy                 0.070885            -0.010076   \n",
       "Total_Amt_Chng_Q4_Q1            0.005469             0.384189   \n",
       "Total_Trans_Amt                 0.807192             0.085581   \n",
       "Total_Trans_Ct                  1.000000             0.112324   \n",
       "Total_Ct_Chng_Q4_Q1             0.112324             1.000000   \n",
       "Avg_Utilization_Ratio           0.002838             0.074143   \n",
       "\n",
       "                          Avg_Utilization_Ratio  \n",
       "CLIENTNUM                              0.000266  \n",
       "Customer_Age                           0.007114  \n",
       "Dependent_count                       -0.037135  \n",
       "Months_on_book                        -0.007541  \n",
       "Total_Relationship_Count               0.067663  \n",
       "Months_Inactive_12_mon                -0.007503  \n",
       "Contacts_Count_12_mon                 -0.055471  \n",
       "Credit_Limit                          -0.482965  \n",
       "Total_Revolving_Bal                    0.624022  \n",
       "Avg_Open_To_Buy                       -0.538808  \n",
       "Total_Amt_Chng_Q4_Q1                   0.035235  \n",
       "Total_Trans_Amt                       -0.083034  \n",
       "Total_Trans_Ct                         0.002838  \n",
       "Total_Ct_Chng_Q4_Q1                    0.074143  \n",
       "Avg_Utilization_Ratio                  1.000000  "
      ]
     },
     "execution_count": 66,
     "metadata": {},
     "output_type": "execute_result"
    }
   ],
   "source": [
    "# Correlation between the numerical columns can be seen below.\n",
    "data_df.corr().T"
   ]
  },
  {
   "cell_type": "code",
   "execution_count": 67,
   "id": "b0101557",
   "metadata": {},
   "outputs": [],
   "source": [
    "# We do not need to unique \"Clientnum\" column for this analysis stage.\n",
    "data_df = data_df.drop([\"CLIENTNUM\"], axis =1)"
   ]
  },
  {
   "cell_type": "code",
   "execution_count": 68,
   "id": "b3754294",
   "metadata": {},
   "outputs": [
    {
     "data": {
      "image/png": "[encoded data removed]",
      "text/plain": [
       "<Figure size 1080x1080 with 16 Axes>"
      ]
     },
     "metadata": {
      "needs_background": "light"
     },
     "output_type": "display_data"
    }
   ],
   "source": [
    "# Lets see the general distrubition of the numerical variables\n",
    "\n",
    "axList = data_df.hist(bins=20, figsize = (15, 15),grid= False)\n",
    "plt.savefig(\"Hist.png\")"
   ]
  },
  {
   "cell_type": "code",
   "execution_count": 69,
   "id": "9e72e7f5",
   "metadata": {},
   "outputs": [
    {
     "data": {
      "text/plain": [
       "<AxesSubplot:xlabel='Marital_Status', ylabel='count'>"
      ]
     },
     "execution_count": 69,
     "metadata": {},
     "output_type": "execute_result"
    },
    {
     "data": {
      "image/png": "[encoded data removed]",
      "text/plain": [
       "<Figure size 1080x360 with 3 Axes>"
      ]
     },
     "metadata": {
      "needs_background": "light"
     },
     "output_type": "display_data"
    }
   ],
   "source": [
    "fig, axes = plt.subplots(nrows=1, ncols=3, figsize=(15, 5))\n",
    "sns.countplot(x = data_df['Attrition_Flag'],ax=axes[0])\n",
    "sns.countplot(x = data_df['Card_Category'], hue = data_df['Gender'],ax=axes[1])\n",
    "sns.countplot(x = data_df['Marital_Status'],hue = data_df['Gender'],ax=axes[2])\n"
   ]
  },
  {
   "cell_type": "code",
   "execution_count": 70,
   "id": "678a88e6",
   "metadata": {},
   "outputs": [
    {
     "data": {
      "text/plain": [
       "<AxesSubplot:xlabel='Education_Level', ylabel='count'>"
      ]
     },
     "execution_count": 70,
     "metadata": {},
     "output_type": "execute_result"
    },
    {
     "data": {
      "image/png": "[encoded data removed]",
      "text/plain": [
       "<Figure size 1296x360 with 2 Axes>"
      ]
     },
     "metadata": {
      "needs_background": "light"
     },
     "output_type": "display_data"
    }
   ],
   "source": [
    "fig, axe = plt.subplots( ncols=2, figsize=(18, 5))\n",
    "sns.countplot(x = data_df['Income_Category'],hue = data_df['Gender'], ax=axe[0])\n",
    "sns.countplot(x= data_df['Education_Level'],hue = data_df['Gender'],ax=axe[1])"
   ]
  },
  {
   "cell_type": "markdown",
   "id": "2e51f8db",
   "metadata": {},
   "source": [
    "## Encoding The Categorical Features"
   ]
  },
  {
   "cell_type": "code",
   "execution_count": 71,
   "id": "0fd04118",
   "metadata": {},
   "outputs": [],
   "source": [
    "data_df.Attrition_Flag = data_df.Attrition_Flag.replace({'Attrited Customer':1,'Existing Customer':0})\n",
    "data_df.Gender = data_df.Gender.replace({'F':1,'M':0})"
   ]
  },
  {
   "cell_type": "code",
   "execution_count": 72,
   "id": "2bb06d1d",
   "metadata": {},
   "outputs": [
    {
     "name": "stdout",
     "output_type": "stream",
     "text": [
      "(10127, 33)\n"
     ]
    }
   ],
   "source": [
    "#Now one hot encoding\n",
    "df_new=pd.get_dummies(data_df, columns=['Education_Level', 'Marital_Status', 'Income_Category', 'Card_Category'],drop_first=True)\n",
    "print(df_new.shape)"
   ]
  },
  {
   "cell_type": "code",
   "execution_count": 73,
   "id": "7e4e1500",
   "metadata": {},
   "outputs": [
    {
     "data": {
      "text/plain": [
       "Index(['Attrition_Flag', 'Customer_Age', 'Gender', 'Dependent_count',\n",
       "       'Months_on_book', 'Total_Relationship_Count', 'Months_Inactive_12_mon',\n",
       "       'Contacts_Count_12_mon', 'Credit_Limit', 'Total_Revolving_Bal',\n",
       "       'Avg_Open_To_Buy', 'Total_Amt_Chng_Q4_Q1', 'Total_Trans_Amt',\n",
       "       'Total_Trans_Ct', 'Total_Ct_Chng_Q4_Q1', 'Avg_Utilization_Ratio',\n",
       "       'Education_Level_Doctorate', 'Education_Level_Graduate',\n",
       "       'Education_Level_High School', 'Education_Level_Post-Graduate',\n",
       "       'Education_Level_Uneducated', 'Education_Level_Unknown',\n",
       "       'Marital_Status_Married', 'Marital_Status_Single',\n",
       "       'Marital_Status_Unknown', 'Income_Category_$40K - $60K',\n",
       "       'Income_Category_$60K - $80K', 'Income_Category_$80K - $120K',\n",
       "       'Income_Category_Less than $40K', 'Income_Category_Unknown',\n",
       "       'Card_Category_Gold', 'Card_Category_Platinum', 'Card_Category_Silver'],\n",
       "      dtype='object')"
      ]
     },
     "execution_count": 73,
     "metadata": {},
     "output_type": "execute_result"
    }
   ],
   "source": [
    "df_new.columns"
   ]
  },
  {
   "cell_type": "markdown",
   "id": "10ca713e",
   "metadata": {},
   "source": [
    "## Data Upsampling Using SMOTE"
   ]
  },
  {
   "cell_type": "code",
   "execution_count": 74,
   "id": "ef4b6abd",
   "metadata": {},
   "outputs": [],
   "source": [
    "oversample = SMOTE()\n",
    "X, y = oversample.fit_resample(df_new[df_new.columns[1:]], df_new[df_new.columns[0]])\n",
    "usampled_df = X.assign(Attrition_Flag = y)"
   ]
  },
  {
   "cell_type": "code",
   "execution_count": 75,
   "id": "9ae5ad07",
   "metadata": {},
   "outputs": [],
   "source": [
    "# standardisation\n",
    "scaler=StandardScaler()\n",
    "X_scaled = scaler.fit_transform(X)"
   ]
  },
  {
   "cell_type": "code",
   "execution_count": 76,
   "id": "3857a266",
   "metadata": {},
   "outputs": [],
   "source": [
    "ohe_data =usampled_df[usampled_df.columns[15:-1]].copy()\n",
    "usampled_df = usampled_df.drop(columns=usampled_df.columns[15:-1])"
   ]
  },
  {
   "cell_type": "code",
   "execution_count": 77,
   "id": "32d5875c",
   "metadata": {},
   "outputs": [],
   "source": [
    "X_train, X_test, y_train, y_test = train_test_split(X_scaled,y,test_size = 0.20,random_state = 1234)"
   ]
  },
  {
   "cell_type": "markdown",
   "id": "18b0a48e",
   "metadata": {},
   "source": [
    "## Base Model Performance"
   ]
  },
  {
   "cell_type": "code",
   "execution_count": 78,
   "id": "83c21e03",
   "metadata": {
    "scrolled": false
   },
   "outputs": [
    {
     "name": "stdout",
     "output_type": "stream",
     "text": [
      "                     Algo  CrossVal_Score_Means  CrossValerrors\n",
      "0  RandomForestClassifier              0.976618        0.004290\n",
      "1    SupportVectorMachine              0.943971        0.005709\n",
      "2    KNeighborsClassifier              0.907279        0.006376\n"
     ]
    },
    {
     "data": {
      "image/png": "[encoded data removed]",
      "text/plain": [
       "<Figure size 432x288 with 1 Axes>"
      ]
     },
     "metadata": {
      "needs_background": "light"
     },
     "output_type": "display_data"
    },
    {
     "data": {
      "text/plain": [
       "<Figure size 864x576 with 0 Axes>"
      ]
     },
     "metadata": {},
     "output_type": "display_data"
    }
   ],
   "source": [
    "kfold = KFold(n_splits=8,shuffle=True, random_state=42)\n",
    "\n",
    "rs = 15\n",
    "clrs = []\n",
    "\n",
    "clrs.append(RandomForestClassifier(random_state=rs))\n",
    "clrs.append(svm.SVC(random_state=rs))\n",
    "clrs.append(KNeighborsClassifier())\n",
    "\n",
    "cv_results = []\n",
    "for clr in clrs :\n",
    "    cv_results.append(cross_val_score(clr, X_train, y_train , scoring = 'accuracy', cv = kfold, n_jobs=-1))\n",
    "\n",
    "cv_means = []\n",
    "cv_std = []\n",
    "for cv_result in cv_results:\n",
    "    cv_means.append(cv_result.mean())\n",
    "    cv_std.append(cv_result.std())\n",
    "    \n",
    "cv_df = pd.DataFrame({\"Algo\":[\"RandomForestClassifier\",'SupportVectorMachine','KNeighborsClassifier'],\"CrossVal_Score_Means\":cv_means,\"CrossValerrors\": cv_std})\n",
    "g = sns.barplot(x=cv_df[\"CrossVal_Score_Means\"],y=cv_df[\"Algo\"],orient = \"h\",color = '#0078d7')\n",
    "g.set_xlabel(\"Mean Accuracy\",fontsize = 18)\n",
    "g = g.set_title(\"Cross validation scores\",fontsize = 24)\n",
    "plt.figure(figsize = (12,8))\n",
    "print(cv_df)"
   ]
  },
  {
   "cell_type": "markdown",
   "id": "e023927a",
   "metadata": {},
   "source": [
    "### Random Forest with default parameters "
   ]
  },
  {
   "cell_type": "code",
   "execution_count": 79,
   "id": "8498c6fe",
   "metadata": {},
   "outputs": [
    {
     "name": "stdout",
     "output_type": "stream",
     "text": [
      "Accuracy: 0.9788235294117648\n",
      "[[1666   46]\n",
      " [  26 1662]]\n",
      "              precision    recall  f1-score   support\n",
      "\n",
      "           0       0.98      0.97      0.98      1712\n",
      "           1       0.97      0.98      0.98      1688\n",
      "\n",
      "    accuracy                           0.98      3400\n",
      "   macro avg       0.98      0.98      0.98      3400\n",
      "weighted avg       0.98      0.98      0.98      3400\n",
      "\n"
     ]
    }
   ],
   "source": [
    "RFC = RandomForestClassifier()\n",
    "RFC.fit(X_train,y_train)\n",
    "y_pred = RFC.predict(X_test)\n",
    "print(\"Accuracy:\",accuracy_score(y_test, y_pred))\n",
    "print(confusion_matrix(y_test, y_pred))\n",
    "c_matrix_RFC_sm=confusion_matrix(y_test, y_pred)\n",
    "print(classification_report(y_test,y_pred))"
   ]
  },
  {
   "cell_type": "markdown",
   "id": "64a6cf78",
   "metadata": {},
   "source": [
    "### SVM with default parameters "
   ]
  },
  {
   "cell_type": "code",
   "execution_count": 80,
   "id": "918fd2ef",
   "metadata": {},
   "outputs": [
    {
     "name": "stdout",
     "output_type": "stream",
     "text": [
      "Accuracy: 0.9482352941176471\n",
      "[[1648   64]\n",
      " [ 112 1576]]\n",
      "              precision    recall  f1-score   support\n",
      "\n",
      "           0       0.94      0.96      0.95      1712\n",
      "           1       0.96      0.93      0.95      1688\n",
      "\n",
      "    accuracy                           0.95      3400\n",
      "   macro avg       0.95      0.95      0.95      3400\n",
      "weighted avg       0.95      0.95      0.95      3400\n",
      "\n"
     ]
    }
   ],
   "source": [
    "svc=svm.SVC()\n",
    "svc.fit(X_train,y_train)\n",
    "y_pred = svc.predict(X_test)\n",
    "print(\"Accuracy:\",accuracy_score(y_test, y_pred))\n",
    "print(confusion_matrix(y_test, y_pred))\n",
    "print(classification_report(y_test,y_pred))"
   ]
  },
  {
   "cell_type": "markdown",
   "id": "b00d0403",
   "metadata": {},
   "source": [
    "### KNN with default parameters"
   ]
  },
  {
   "cell_type": "code",
   "execution_count": 81,
   "id": "ee5830e2",
   "metadata": {},
   "outputs": [
    {
     "name": "stdout",
     "output_type": "stream",
     "text": [
      "Accuracy: 0.9179411764705883\n",
      "[[1589  123]\n",
      " [ 156 1532]]\n",
      "              precision    recall  f1-score   support\n",
      "\n",
      "           0       0.91      0.93      0.92      1712\n",
      "           1       0.93      0.91      0.92      1688\n",
      "\n",
      "    accuracy                           0.92      3400\n",
      "   macro avg       0.92      0.92      0.92      3400\n",
      "weighted avg       0.92      0.92      0.92      3400\n",
      "\n"
     ]
    }
   ],
   "source": [
    "knn=KNeighborsClassifier()\n",
    "knn.fit(X_train,y_train)\n",
    "y_pred = knn.predict(X_test)\n",
    "print(\"Accuracy:\",accuracy_score(y_test, y_pred))\n",
    "print(confusion_matrix(y_test, y_pred))\n",
    "print(classification_report(y_test,y_pred))"
   ]
  },
  {
   "cell_type": "markdown",
   "id": "3bfa73a7",
   "metadata": {},
   "source": [
    "### Hyper Parameter Tunning for Random Forest"
   ]
  },
  {
   "cell_type": "code",
   "execution_count": 82,
   "id": "ef021613",
   "metadata": {},
   "outputs": [
    {
     "name": "stdout",
     "output_type": "stream",
     "text": [
      "Fitting 5 folds for each of 18 candidates, totalling 90 fits\n"
     ]
    },
    {
     "data": {
      "text/plain": [
       "GridSearchCV(cv=5, estimator=RandomForestClassifier(), n_jobs=-1,\n",
       "             param_grid={'criterion': ['entropy', 'gini'],\n",
       "                         'max_depth': [120, 150, 170],\n",
       "                         'n_estimators': [1200, 1500, 1700]},\n",
       "             verbose=1)"
      ]
     },
     "execution_count": 82,
     "metadata": {},
     "output_type": "execute_result"
    }
   ],
   "source": [
    "rf = RandomForestClassifier()\n",
    "\n",
    "parameters = {\n",
    "    'n_estimators' : [1200,1500,1700],\n",
    "    'criterion': ['entropy','gini'],\n",
    "    'max_depth' : [120,150,170]\n",
    "}\n",
    "\n",
    "grid_search_rf = GridSearchCV(rf, parameters, n_jobs = -1, cv = 5, verbose = 1)\n",
    "grid_result_rf = grid_search_rf.fit(X_train, y_train)\n",
    "grid_result_rf"
   ]
  },
  {
   "cell_type": "markdown",
   "id": "40379730",
   "metadata": {},
   "source": [
    "### Hyper Parameter Tunning for SVM"
   ]
  },
  {
   "cell_type": "code",
   "execution_count": 83,
   "id": "5602d9cb",
   "metadata": {},
   "outputs": [
    {
     "name": "stdout",
     "output_type": "stream",
     "text": [
      "Fitting 5 folds for each of 27 candidates, totalling 135 fits\n"
     ]
    },
    {
     "data": {
      "text/plain": [
       "GridSearchCV(cv=5, estimator=SVC(), n_jobs=-1,\n",
       "             param_grid={'C': array([ 0.1,  1. , 10. ]),\n",
       "                         'gamma': [0.1, 1.0, 10.0],\n",
       "                         'kernel': ['rbf', 'poly', 'sigmoid']},\n",
       "             refit='accuracy', scoring=['accuracy'], verbose=1)"
      ]
     },
     "execution_count": 83,
     "metadata": {},
     "output_type": "execute_result"
    }
   ],
   "source": [
    "# List of C values\n",
    "C_range = np.logspace(-1, 1, 3)\n",
    "gamma_range = np.logspace(-1, 1, 3)\n",
    "param_grid = { \n",
    "    \"C\": C_range,\n",
    "    \"kernel\": ['rbf', 'poly','sigmoid'],\n",
    "    \"gamma\": gamma_range.tolist()\n",
    "    }\n",
    "scoring = ['accuracy']\n",
    "\n",
    "grid_search_svm = GridSearchCV(estimator=svc, \n",
    "                           param_grid=param_grid, \n",
    "                           scoring=scoring, \n",
    "                           refit='accuracy', \n",
    "                           n_jobs=-1, \n",
    "                           verbose=1,cv=5)\n",
    "grid_result_svm = grid_search_svm.fit(X_train, y_train)\n",
    "grid_result_svm"
   ]
  },
  {
   "cell_type": "markdown",
   "id": "5f1daa41",
   "metadata": {},
   "source": [
    "### Hyper Parameter Tunning for KNN"
   ]
  },
  {
   "cell_type": "code",
   "execution_count": 84,
   "id": "35b53e50",
   "metadata": {},
   "outputs": [
    {
     "data": {
      "image/png": "[encoded data removed]",
      "text/plain": [
       "<Figure size 720x432 with 1 Axes>"
      ]
     },
     "metadata": {
      "needs_background": "light"
     },
     "output_type": "display_data"
    }
   ],
   "source": [
    "# Ploting graph No_of_neighbors vs Accuracy to pick the range of n_neighbors\n",
    "mean_acc = np.zeros(20)\n",
    "for i in range(1,21):\n",
    "    #Train Model and Predict  \n",
    "    knn = KNeighborsClassifier(n_neighbors = i).fit(X_train,y_train)\n",
    "    yhat= knn.predict(X_test)\n",
    "    mean_acc[i-1] =accuracy_score(y_test, yhat)\n",
    "\n",
    "loc = np.arange(1,21,step=1.0)\n",
    "plt.figure(figsize = (10, 6))\n",
    "plt.plot(range(1,21), mean_acc)\n",
    "plt.xticks(loc)\n",
    "plt.xlabel('Number of Neighbors ')\n",
    "plt.ylabel('Accuracy')\n",
    "plt.show()"
   ]
  },
  {
   "cell_type": "code",
   "execution_count": 85,
   "id": "26087729",
   "metadata": {},
   "outputs": [
    {
     "name": "stdout",
     "output_type": "stream",
     "text": [
      "Fitting 5 folds for each of 30 candidates, totalling 150 fits\n"
     ]
    },
    {
     "data": {
      "text/plain": [
       "GridSearchCV(cv=5, estimator=KNeighborsClassifier(), n_jobs=-1,\n",
       "             param_grid={'metric': ['minkowski', 'euclidean', 'manhattan'],\n",
       "                         'n_neighbors': [2, 3, 4, 5, 6],\n",
       "                         'weights': ['uniform', 'distance']},\n",
       "             verbose=1)"
      ]
     },
     "execution_count": 85,
     "metadata": {},
     "output_type": "execute_result"
    }
   ],
   "source": [
    "grid_params = {'n_neighbors' : [2,3,4,5,6],\n",
    "               'weights' : ['uniform','distance'],\n",
    "               'metric' : ['minkowski','euclidean','manhattan']}\n",
    "grid_search_knn = GridSearchCV(KNeighborsClassifier(), grid_params, verbose = 1, cv=5, n_jobs = -1)\n",
    "grid_result_knn = grid_search_knn.fit(X_train, y_train)\n",
    "grid_result_knn"
   ]
  },
  {
   "cell_type": "markdown",
   "id": "3a1735b4",
   "metadata": {},
   "source": [
    "## Checking The Best Estimators\n"
   ]
  },
  {
   "cell_type": "code",
   "execution_count": 86,
   "id": "1f28ed90",
   "metadata": {},
   "outputs": [
    {
     "name": "stdout",
     "output_type": "stream",
     "text": [
      "Random Forest Best Params: {'criterion': 'entropy', 'max_depth': 120, 'n_estimators': 1700}\n"
     ]
    }
   ],
   "source": [
    "# get the hyperparameters with the best score randome forest\n",
    "print(\"Random Forest Best Params:\",grid_result_rf.best_params_)"
   ]
  },
  {
   "cell_type": "code",
   "execution_count": 87,
   "id": "d7535037",
   "metadata": {},
   "outputs": [
    {
     "name": "stdout",
     "output_type": "stream",
     "text": [
      "SVM Best Params: {'C': 10.0, 'gamma': 0.1, 'kernel': 'rbf'}\n"
     ]
    }
   ],
   "source": [
    "# get the hyperparameters with the best score Support vector machine\n",
    "print(\"SVM Best Params:\",grid_result_svm.best_params_)"
   ]
  },
  {
   "cell_type": "code",
   "execution_count": 88,
   "id": "c674c6d4",
   "metadata": {},
   "outputs": [
    {
     "name": "stdout",
     "output_type": "stream",
     "text": [
      "KNN Best Params: {'metric': 'manhattan', 'n_neighbors': 6, 'weights': 'distance'}\n"
     ]
    }
   ],
   "source": [
    "# get the hyperparameters with the best score K-neighbor\n",
    "print(\"KNN Best Params:\",grid_result_knn.best_params_)"
   ]
  },
  {
   "cell_type": "markdown",
   "id": "ac216198",
   "metadata": {},
   "source": [
    "### Training Random Forest  Model With Best Hyper Parameters"
   ]
  },
  {
   "cell_type": "code",
   "execution_count": 89,
   "id": "8dce5058",
   "metadata": {},
   "outputs": [],
   "source": [
    "rf = RandomForestClassifier(criterion = 'entropy', n_estimators = 1700,max_depth= 120)\n",
    "rf.fit(X_train, y_train)\n",
    "y_pred_rf= RFC.predict(X_test)\n",
    "y_proba_rf = RFC.predict_proba(X_test)"
   ]
  },
  {
   "cell_type": "code",
   "execution_count": 90,
   "id": "ced5e6aa",
   "metadata": {},
   "outputs": [
    {
     "name": "stdout",
     "output_type": "stream",
     "text": [
      "RandomForestClassifier\n",
      "Accuracy: 0.9788235294117648\n",
      "              precision    recall  f1-score   support\n",
      "\n",
      "           0       0.91      0.93      0.92      1712\n",
      "           1       0.93      0.91      0.92      1688\n",
      "\n",
      "    accuracy                           0.92      3400\n",
      "   macro avg       0.92      0.92      0.92      3400\n",
      "weighted avg       0.92      0.92      0.92      3400\n",
      "\n",
      "[[1666   46]\n",
      " [  26 1662]]\n"
     ]
    }
   ],
   "source": [
    "print(\"RandomForestClassifier\")\n",
    "print(\"Accuracy:\",accuracy_score(y_test, y_pred_rf))\n",
    "print(classification_report(y_test, y_pred))\n",
    "print(confusion_matrix(y_test, y_pred_rf))\n",
    "roc_auc_score_rf = roc_auc_score(y_test, y_pred_rf)"
   ]
  },
  {
   "cell_type": "code",
   "execution_count": 91,
   "id": "d5421894",
   "metadata": {
    "scrolled": true
   },
   "outputs": [
    {
     "name": "stdout",
     "output_type": "stream",
     "text": [
      "ROC curve - RandomForestClassifier\n"
     ]
    },
    {
     "data": {
      "image/png": "[encoded data removed]",
      "text/plain": [
       "<Figure size 360x360 with 1 Axes>"
      ]
     },
     "metadata": {
      "needs_background": "light"
     },
     "output_type": "display_data"
    }
   ],
   "source": [
    "from sklearn.metrics import roc_curve\n",
    "from sklearn.metrics import RocCurveDisplay\n",
    "def plot_sklearn_roc_curve(y_real, y_pred):\n",
    "    fpr, tpr, _ = roc_curve(y_real, y_pred)\n",
    "    roc_display = RocCurveDisplay(fpr=fpr, tpr=tpr).plot()\n",
    "    roc_display.figure_.set_size_inches(5,5)\n",
    "    plt.plot([0, 1], [0, 1], color = 'g')\n",
    "# Plots the ROC curve using the sklearn methods\n",
    "print(\"ROC curve - RandomForestClassifier\")\n",
    "plot_sklearn_roc_curve(y_test, y_proba_rf[:, 1])\n"
   ]
  },
  {
   "cell_type": "markdown",
   "id": "085db40f",
   "metadata": {},
   "source": [
    "### Ploting Feature Importace"
   ]
  },
  {
   "cell_type": "code",
   "execution_count": 92,
   "id": "44594d44",
   "metadata": {},
   "outputs": [
    {
     "name": "stdout",
     "output_type": "stream",
     "text": [
      "Total_Trans_Ct                    0.188479\n",
      "Total_Trans_Amt                   0.187483\n",
      "Total_Revolving_Bal               0.093583\n",
      "Total_Ct_Chng_Q4_Q1               0.081565\n",
      "Avg_Utilization_Ratio             0.059513\n",
      "Total_Relationship_Count          0.059495\n",
      "Total_Amt_Chng_Q4_Q1              0.055098\n",
      "Credit_Limit                      0.032307\n",
      "Avg_Open_To_Buy                   0.032304\n",
      "Customer_Age                      0.026752\n",
      "Marital_Status_Married            0.023352\n",
      "Months_on_book                    0.019085\n",
      "Months_Inactive_12_mon            0.017616\n",
      "Contacts_Count_12_mon             0.013868\n",
      "Marital_Status_Single             0.012924\n",
      "Education_Level_Graduate          0.012602\n",
      "Dependent_count                   0.011287\n",
      "Education_Level_High School       0.009874\n",
      "Gender                            0.009594\n",
      "Income_Category_$60K - $80K       0.009043\n",
      "Income_Category_$80K - $120K      0.007307\n",
      "Education_Level_Uneducated        0.006533\n",
      "Income_Category_$40K - $60K       0.006106\n",
      "Income_Category_Less than $40K    0.005386\n",
      "Marital_Status_Unknown            0.005053\n",
      "Education_Level_Unknown           0.004940\n",
      "Income_Category_Unknown           0.003663\n",
      "Education_Level_Post-Graduate     0.001775\n",
      "Education_Level_Doctorate         0.001541\n",
      "Card_Category_Silver              0.001365\n",
      "Card_Category_Gold                0.000463\n",
      "Card_Category_Platinum            0.000043\n",
      "dtype: float64\n"
     ]
    }
   ],
   "source": [
    "feature = pd.Series(rf.feature_importances_, index = X.columns).sort_values(ascending = False)\n",
    "print(feature)"
   ]
  },
  {
   "cell_type": "code",
   "execution_count": 93,
   "id": "18d0b2e1",
   "metadata": {},
   "outputs": [
    {
     "data": {
      "image/png": "[encoded data removed]",
      "text/plain": [
       "<Figure size 2016x1008 with 1 Axes>"
      ]
     },
     "metadata": {
      "needs_background": "light"
     },
     "output_type": "display_data"
    }
   ],
   "source": [
    "plt.figure(figsize = (28,14))\n",
    "sns.barplot(x = feature, y = feature.index,color = '#0078d7')\n",
    "plt.title(\"Feature Importance\")\n",
    "plt.xlabel('Score')\n",
    "plt.ylabel('Features')\n",
    "plt.show()"
   ]
  },
  {
   "cell_type": "markdown",
   "id": "578aacb9",
   "metadata": {},
   "source": [
    "### Training SVM Model With Best Hyper Parameters\n"
   ]
  },
  {
   "cell_type": "code",
   "execution_count": 94,
   "id": "cdac1ac5",
   "metadata": {},
   "outputs": [],
   "source": [
    "svc=svm.SVC(C= 0.1, gamma= 0.1, kernel= 'rbf',probability=True)\n",
    "svc.fit(X_train,y_train)\n",
    "y_pred_svm = svc.predict(X_test)\n",
    "y_proba_svm = svc.predict_proba(X_test)"
   ]
  },
  {
   "cell_type": "code",
   "execution_count": 95,
   "id": "e1331956",
   "metadata": {},
   "outputs": [
    {
     "name": "stdout",
     "output_type": "stream",
     "text": [
      "SupportVectorMachine\n",
      "Accuracy: 0.8917647058823529\n",
      "[[1681   31]\n",
      " [ 337 1351]]\n",
      "              precision    recall  f1-score   support\n",
      "\n",
      "           0       0.83      0.98      0.90      1712\n",
      "           1       0.98      0.80      0.88      1688\n",
      "\n",
      "    accuracy                           0.89      3400\n",
      "   macro avg       0.91      0.89      0.89      3400\n",
      "weighted avg       0.90      0.89      0.89      3400\n",
      "\n"
     ]
    }
   ],
   "source": [
    "print(\"SupportVectorMachine\")\n",
    "print(\"Accuracy:\",accuracy_score(y_test, y_pred_svm))\n",
    "print(confusion_matrix(y_test, y_pred_svm))\n",
    "print(classification_report(y_test,y_pred_svm))\n",
    "roc_auc_score_svm = roc_auc_score(y_test, y_pred_svm)"
   ]
  },
  {
   "cell_type": "code",
   "execution_count": 96,
   "id": "814cd21b",
   "metadata": {},
   "outputs": [
    {
     "name": "stdout",
     "output_type": "stream",
     "text": [
      "ROC curve - KNN\n"
     ]
    },
    {
     "data": {
      "image/png": "[encoded data removed]",
      "text/plain": [
       "<Figure size 360x360 with 1 Axes>"
      ]
     },
     "metadata": {
      "needs_background": "light"
     },
     "output_type": "display_data"
    }
   ],
   "source": [
    "# Plots the ROC curve using the sklearn methods\n",
    "print(\"ROC curve - KNN\")\n",
    "plot_sklearn_roc_curve(y_test, y_proba_svm[:, 1])"
   ]
  },
  {
   "cell_type": "markdown",
   "id": "619ee1fd",
   "metadata": {},
   "source": [
    "### Training KNN Model With Best Hyper Parameters\n"
   ]
  },
  {
   "cell_type": "code",
   "execution_count": 97,
   "id": "79160680",
   "metadata": {},
   "outputs": [
    {
     "name": "stdout",
     "output_type": "stream",
     "text": [
      "K-KNeighborsClassifier\n",
      "Accuracy: 0.9455882352941176\n",
      "[[1625   87]\n",
      " [  98 1590]]\n",
      "              precision    recall  f1-score   support\n",
      "\n",
      "           0       0.94      0.95      0.95      1712\n",
      "           1       0.95      0.94      0.95      1688\n",
      "\n",
      "    accuracy                           0.95      3400\n",
      "   macro avg       0.95      0.95      0.95      3400\n",
      "weighted avg       0.95      0.95      0.95      3400\n",
      "\n"
     ]
    }
   ],
   "source": [
    "# use the best hyperparameters\n",
    "knn = KNeighborsClassifier(n_neighbors = 6, weights = 'distance',metric = 'manhattan')\n",
    "knn.fit(X_train, y_train)\n",
    "y_pred_knn = knn.predict(X_test)\n",
    "# Predict the classes on the test data, and return the probabilities for each class\n",
    "y_proba_knn = knn.predict_proba(X_test)\n",
    "print(\"K-KNeighborsClassifier\")\n",
    "print(\"Accuracy:\",accuracy_score(y_test, y_pred_knn))\n",
    "print(confusion_matrix(y_test, y_pred_knn))\n",
    "print(classification_report(y_test,y_pred_knn))\n",
    "roc_auc_score_knn = roc_auc_score(y_test, y_pred_knn)"
   ]
  },
  {
   "cell_type": "code",
   "execution_count": 98,
   "id": "26e5a855",
   "metadata": {
    "scrolled": false
   },
   "outputs": [
    {
     "name": "stdout",
     "output_type": "stream",
     "text": [
      "ROC curve - KNN\n"
     ]
    },
    {
     "data": {
      "image/png": "[encoded data removed]",
      "text/plain": [
       "<Figure size 360x360 with 1 Axes>"
      ]
     },
     "metadata": {
      "needs_background": "light"
     },
     "output_type": "display_data"
    }
   ],
   "source": [
    "\n",
    "# Plots the ROC curve using the sklearn methods\n",
    "print(\"ROC curve - KNN\")\n",
    "plot_sklearn_roc_curve(y_test, y_proba_knn[:, 1])"
   ]
  },
  {
   "cell_type": "code",
   "execution_count": 99,
   "id": "4e7252a1",
   "metadata": {},
   "outputs": [
    {
     "name": "stdout",
     "output_type": "stream",
     "text": [
      "                     Algo  roc_auc_score\n",
      "0  RandomForestClassifier       0.978864\n",
      "1    SupportVectorMachine       0.891124\n",
      "2    KNeighborsClassifier       0.945563\n"
     ]
    }
   ],
   "source": [
    "roc_df = pd.DataFrame({\"Algo\":[\"RandomForestClassifier\",'SupportVectorMachine','KNeighborsClassifier'],\"roc_auc_score\":[roc_auc_score_rf,roc_auc_score_svm,roc_auc_score_knn]})\n",
    "print(roc_df)"
   ]
  },
  {
   "cell_type": "code",
   "execution_count": null,
   "id": "2aeef2db",
   "metadata": {},
   "outputs": [],
   "source": []
  }
 ],
 "metadata": {
  "kernelspec": {
   "display_name": "Python 3 (ipykernel)",
   "language": "python",
   "name": "python3"
  },
  "language_info": {
   "codemirror_mode": {
    "name": "ipython",
    "version": 3
   },
   "file_extension": ".py",
   "mimetype": "text/x-python",
   "name": "python",
   "nbconvert_exporter": "python",
   "pygments_lexer": "ipython3",
   "version": "3.9.16"
  }
 },
 "nbformat": 4,
 "nbformat_minor": 5
}
